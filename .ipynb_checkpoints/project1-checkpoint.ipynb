{
 "cells": [
  {
   "cell_type": "code",
   "execution_count": 2,
   "metadata": {},
   "outputs": [],
   "source": [
    "import numpy as np\n",
    "from scipy.integrate import solve_ivp"
   ]
  },
  {
   "cell_type": "markdown",
   "metadata": {},
   "source": [
    "Let $\\mathbf{x}_1(t), \\mathbf{x}_2(t), \\mathbf{x}_3(t) \\in \\mathbb{R}^3$ be the positions of the three bodies, which have masses $m_1, m_2, m_3 \\geq 0$. Then if $G$ is the universal gravitational constant, the equations of motion are\n",
    "$$ \n",
    "\\mathbf{x}_1''(t) = \\frac{G m_2 (\\mathbf{x}_2(t) - \\mathbf{x}_1(t))}{\\|\\mathbf{x}_2(t) - \\mathbf{x}_1(t)\\|^3}\n",
    "+ \\frac{G m_3 (\\mathbf{x}_3(t) - \\mathbf{x}_1(t))}{\\|\\mathbf{x}_3(t) - \\mathbf{x}_1(t)\\|^3}\n",
    "$$\n",
    "$$ \n",
    "\\mathbf{x}_2''(t) = \\frac{G m_1 (\\mathbf{x}_1(t) - \\mathbf{x}_2(t))}{\\|\\mathbf{x}_1(t) - \\mathbf{x}_2(t)\\|^3}\n",
    "+ \\frac{G m_3 (\\mathbf{x}_3(t) - \\mathbf{x}_2(t))}{\\|\\mathbf{x}_3(t) - \\mathbf{x}_2(t)\\|^3}\n",
    "$$\n",
    "$$ \n",
    "\\mathbf{x}_3''(t) = \\frac{G m_2 (\\mathbf{x}_2(t) - \\mathbf{x}_3(t))}{\\|\\mathbf{x}_2(t) - \\mathbf{x}_3(t)\\|^3}\n",
    "+ \\frac{G m_1 (\\mathbf{x}_1(t) - \\mathbf{x}_3(t))}{\\|\\mathbf{x}_1(t) - \\mathbf{x}_3(t)\\|^3}\n",
    "$$"
   ]
  },
  {
   "cell_type": "markdown",
   "metadata": {},
   "source": [
    "In the limit that $m_3 \\to 0$, the first two equations become their own system:\n",
    "$$ \n",
    "\\mathbf{x}_1''(t) = \\frac{G m_2 (\\mathbf{x}_2(t) - \\mathbf{x}_1(t))}{\\|\\mathbf{x}_2(t) - \\mathbf{x}_1(t)\\|^3}\n",
    "; \\qquad  \n",
    "\\mathbf{x}_2''(t) = \\frac{G m_1 (\\mathbf{x}_1(t) - \\mathbf{x}_2(t))}{\\|\\mathbf{x}_1(t) - \\mathbf{x}_2(t)\\|^3}\n",
    "$$\n"
   ]
  },
  {
   "cell_type": "markdown",
   "metadata": {},
   "source": [
    "and the third mass evolves in time depending on the solution for the first two masses:"
   ]
  },
  {
   "cell_type": "markdown",
   "metadata": {},
   "source": [
    "$$ \n",
    "\\mathbf{x}_3''(t) = \\frac{G m_2 (\\mathbf{x}_2(t) - \\mathbf{x}_3(t))}{\\|\\mathbf{x}_2(t) - \\mathbf{x}_3(t)\\|^3}\n",
    "+ \\frac{G m_1 (\\mathbf{x}_1(t) - \\mathbf{x}_3(t))}{\\|\\mathbf{x}_1(t) - \\mathbf{x}_3(t)\\|^3}\n",
    "$$"
   ]
  },
  {
   "cell_type": "code",
   "execution_count": 3,
   "metadata": {},
   "outputs": [],
   "source": [
    "solve_ivp?\n",
    "\n",
    "def gravity_acceleration(x, m1=1, m2=1):\n",
    "    \"\"\"\n",
    "    \n",
    "    Parameters:\n",
    "        x (ndarray, length 18) xyz coordinates of 3 bodies, followed by their velocities\n",
    "    \"\"\"\n",
    "    v = x[9:]\n",
    "    x = x[:9]\n",
    "    \n",
    "    \n",
    "    "
   ]
  },
  {
   "cell_type": "code",
   "execution_count": null,
   "metadata": {},
   "outputs": [],
   "source": []
  }
 ],
 "metadata": {
  "kernelspec": {
   "display_name": "Python 3",
   "language": "python",
   "name": "python3"
  },
  "language_info": {
   "codemirror_mode": {
    "name": "ipython",
    "version": 3
   },
   "file_extension": ".py",
   "mimetype": "text/x-python",
   "name": "python",
   "nbconvert_exporter": "python",
   "pygments_lexer": "ipython3",
   "version": "3.6.10"
  }
 },
 "nbformat": 4,
 "nbformat_minor": 4
}

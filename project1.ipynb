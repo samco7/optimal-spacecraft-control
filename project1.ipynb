{
 "cells": [
  {
   "cell_type": "code",
   "execution_count": 3,
   "metadata": {},
   "outputs": [],
   "source": [
    "import numpy as np\n",
    "from scipy.integrate import solve_ivp"
   ]
  },
  {
   "cell_type": "markdown",
   "metadata": {},
   "source": [
    "Let $\\mathbf{x}_1(t), \\mathbf{x}_2(t), \\mathbf{x}_3(t) \\in \\mathbb{R}^3$ be the positions of the three bodies, which have masses $m_1, m_2, m_3 \\geq 0$. Then if $G$ is the universal gravitational constant, the equations of motion are\n",
    "$$ \n",
    "\\mathbf{x}_1''(t) = \\frac{G m_2 (\\mathbf{x}_2(t) - \\mathbf{x}_1(t))}{\\|\\mathbf{x}_2(t) - \\mathbf{x}_1(t)\\|^3}\n",
    "+ \\frac{G m_3 (\\mathbf{x}_3(t) - \\mathbf{x}_1(t))}{\\|\\mathbf{x}_3(t) - \\mathbf{x}_1(t)\\|^3}\n",
    "$$\n",
    "$$ \n",
    "\\mathbf{x}_2''(t) = \\frac{G m_1 (\\mathbf{x}_1(t) - \\mathbf{x}_2(t))}{\\|\\mathbf{x}_1(t) - \\mathbf{x}_2(t)\\|^3}\n",
    "+ \\frac{G m_3 (\\mathbf{x}_3(t) - \\mathbf{x}_2(t))}{\\|\\mathbf{x}_3(t) - \\mathbf{x}_2(t)\\|^3}\n",
    "$$\n",
    "$$ \n",
    "\\mathbf{x}_3''(t) = \\frac{G m_2 (\\mathbf{x}_2(t) - \\mathbf{x}_3(t))}{\\|\\mathbf{x}_2(t) - \\mathbf{x}_3(t)\\|^3}\n",
    "+ \\frac{G m_1 (\\mathbf{x}_1(t) - \\mathbf{x}_3(t))}{\\|\\mathbf{x}_1(t) - \\mathbf{x}_3(t)\\|^3}\n",
    "$$"
   ]
  },
  {
   "cell_type": "markdown",
   "metadata": {},
   "source": [
    "In the limit that $m_3 \\to 0$, the first two equations become their own system:\n",
    "$$ \n",
    "\\mathbf{x}_1''(t) = \\frac{G m_2 (\\mathbf{x}_2(t) - \\mathbf{x}_1(t))}{\\|\\mathbf{x}_2(t) - \\mathbf{x}_1(t)\\|^3}\n",
    "; \\qquad  \n",
    "\\mathbf{x}_2''(t) = \\frac{G m_1 (\\mathbf{x}_1(t) - \\mathbf{x}_2(t))}{\\|\\mathbf{x}_1(t) - \\mathbf{x}_2(t)\\|^3}\n",
    "$$\n"
   ]
  },
  {
   "cell_type": "markdown",
   "metadata": {},
   "source": [
    "and the third mass evolves in time depending on the solution for the first two masses:"
   ]
  },
  {
   "cell_type": "markdown",
   "metadata": {},
   "source": [
    "$$ \n",
    "\\mathbf{x}_3''(t) = \\frac{G m_2 (\\mathbf{x}_2(t) - \\mathbf{x}_3(t))}{\\|\\mathbf{x}_2(t) - \\mathbf{x}_3(t)\\|^3}\n",
    "+ \\frac{G m_1 (\\mathbf{x}_1(t) - \\mathbf{x}_3(t))}{\\|\\mathbf{x}_1(t) - \\mathbf{x}_3(t)\\|^3}\n",
    "$$"
   ]
  },
  {
   "cell_type": "code",
   "execution_count": 9,
   "metadata": {},
   "outputs": [],
   "source": [
    "def gravity_acceleration(t, x, m1=1, m2=1):\n",
    "    \"\"\"\n",
    "    \n",
    "    Parameters:\n",
    "        x (ndarray, length 18) xyz coordinates of 3 bodies, followed by their velocities\n",
    "    \"\"\"\n",
    "    # Extract coordinates\n",
    "    v = x[9:]\n",
    "    x1, x2, x3 = x[:3], x[3:6], x[6:9]\n",
    "    \n",
    "    # Get body distances\n",
    "    sqdist12 = np.sum(np.square(x2-x1))\n",
    "    sqdist13 = np.sum(np.square(x3-x1))\n",
    "    sqdist23 = np.sum(np.square(x3-x2))\n",
    "    \n",
    "    # Construct the acceleration due to gravity\n",
    "    a = np.zeros(9)\n",
    "    \n",
    "    a[:3] = m2*(x2-x1)/np.power(sqdist12, 1.5)\n",
    "    a[3:6] = m1*(x1-x2)/np.power(sqdist12, 1.5)\n",
    "    a[6:9] = m2*(x2-x3)/np.power(sqdist23, 1.5) + m1*(x1-x3)/np.power(sqdist13, 1.5)\n",
    "    \n",
    "    # Return the result\n",
    "    return np.concatenate((v,a))\n",
    "    \n",
    "    "
   ]
  },
  {
   "cell_type": "code",
   "execution_count": 4,
   "metadata": {},
   "outputs": [],
   "source": [
    "ic1 = np.array([1, 0, 0, -1, 0, 0, 2, 0, 0, 0, 1, 0, 0, -1, 0, 0, 1, 0])"
   ]
  },
  {
   "cell_type": "code",
   "execution_count": 11,
   "metadata": {},
   "outputs": [
    {
     "data": {
      "text/plain": [
       "array([0.        , 0.01010101, 0.02020202, 0.03030303, 0.04040404,\n",
       "       0.05050505, 0.06060606, 0.07070707, 0.08080808, 0.09090909,\n",
       "       0.1010101 , 0.11111111, 0.12121212, 0.13131313, 0.14141414,\n",
       "       0.15151515, 0.16161616, 0.17171717, 0.18181818, 0.19191919,\n",
       "       0.2020202 , 0.21212121, 0.22222222, 0.23232323, 0.24242424,\n",
       "       0.25252525, 0.26262626, 0.27272727, 0.28282828, 0.29292929,\n",
       "       0.3030303 , 0.31313131, 0.32323232, 0.33333333, 0.34343434,\n",
       "       0.35353535, 0.36363636, 0.37373737, 0.38383838, 0.39393939,\n",
       "       0.4040404 , 0.41414141, 0.42424242, 0.43434343, 0.44444444,\n",
       "       0.45454545, 0.46464646, 0.47474747, 0.48484848, 0.49494949,\n",
       "       0.50505051, 0.51515152, 0.52525253, 0.53535354, 0.54545455,\n",
       "       0.55555556, 0.56565657, 0.57575758, 0.58585859, 0.5959596 ,\n",
       "       0.60606061, 0.61616162, 0.62626263, 0.63636364, 0.64646465,\n",
       "       0.65656566, 0.66666667, 0.67676768, 0.68686869, 0.6969697 ,\n",
       "       0.70707071, 0.71717172, 0.72727273, 0.73737374, 0.74747475,\n",
       "       0.75757576, 0.76767677, 0.77777778, 0.78787879, 0.7979798 ,\n",
       "       0.80808081, 0.81818182, 0.82828283, 0.83838384, 0.84848485,\n",
       "       0.85858586, 0.86868687, 0.87878788, 0.88888889, 0.8989899 ,\n",
       "       0.90909091, 0.91919192, 0.92929293, 0.93939394, 0.94949495,\n",
       "       0.95959596, 0.96969697, 0.97979798, 0.98989899, 1.        ])"
      ]
     },
     "execution_count": 11,
     "metadata": {},
     "output_type": "execute_result"
    }
   ],
   "source": [
    "np.linspace(0, 1, 100)"
   ]
  },
  {
   "cell_type": "code",
   "execution_count": 20,
   "metadata": {},
   "outputs": [],
   "source": [
    "sol = solve_ivp(gravity_acceleration, (0, 0.1), ic1)"
   ]
  },
  {
   "cell_type": "code",
   "execution_count": 25,
   "metadata": {},
   "outputs": [
    {
     "data": {
      "text/plain": [
       "array([ 9.99999828e-01,  1.17207655e-03,  0.00000000e+00, -9.99999828e-01,\n",
       "       -1.17207655e-03,  0.00000000e+00,  1.99999924e+00,  1.17207660e-03,\n",
       "        0.00000000e+00, -2.93018988e-04,  9.99999828e-01,  0.00000000e+00,\n",
       "        2.93018988e-04, -9.99999828e-01,  0.00000000e+00, -1.30230781e-03,\n",
       "        9.99999949e-01,  0.00000000e+00])"
      ]
     },
     "execution_count": 25,
     "metadata": {},
     "output_type": "execute_result"
    }
   ],
   "source": [
    "sol.y[:, 1]"
   ]
  },
  {
   "cell_type": "code",
   "execution_count": null,
   "metadata": {},
   "outputs": [],
   "source": []
  }
 ],
 "metadata": {
  "kernelspec": {
   "display_name": "Python 3",
   "language": "python",
   "name": "python3"
  },
  "language_info": {
   "codemirror_mode": {
    "name": "ipython",
    "version": 3
   },
   "file_extension": ".py",
   "mimetype": "text/x-python",
   "name": "python",
   "nbconvert_exporter": "python",
   "pygments_lexer": "ipython3",
   "version": "3.6.10"
  }
 },
 "nbformat": 4,
 "nbformat_minor": 4
}

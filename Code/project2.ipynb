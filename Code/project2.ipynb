{
 "cells": [
  {
   "cell_type": "markdown",
   "metadata": {},
   "source": [
    "# Modeling the Gravitational Slingshot Effect\n",
    "### Sam Cochran, Jacob Murri Caleb Wilson"
   ]
  },
  {
   "cell_type": "markdown",
   "metadata": {},
   "source": [
    "It should be noted that a lot of our work is best understood through animations, which can't be embedded into this PDF report. Below is a link to our github, where you can find supplementary code and animation files to look at as needed.\n",
    "\n",
    "Code is here:\n",
    "https://github.com/samcochran/Gravitational-Slingshot\n",
    "\n",
    "Animations are here:\n",
    "https://samcochran.github.io/Gravitational-Slingshot/"
   ]
  },
  {
   "cell_type": "code",
   "execution_count": 1,
   "metadata": {
    "hide_input": false,
    "slideshow": {
     "slide_type": "-"
    }
   },
   "outputs": [],
   "source": [
    "# Import packages\n",
    "import numpy as np\n",
    "from matplotlib import pyplot as plt\n",
    "from matplotlib import style, rcParams\n",
    "import matplotlib.animation as animation\n",
    "#might want 3D stuff later\n",
    "#from mpl_toolkits.mplot3d import Axes3D\n",
    "from scipy.integrate import solve_ivp\n",
    "\n",
    "#Import in-house code\n",
    "from simulation import *\n",
    "from plotting import *\n",
    "\n",
    "style.use('seaborn')\n",
    "rcParams['figure.figsize'] = 10, 10\n"
   ]
  },
  {
   "cell_type": "markdown",
   "metadata": {},
   "source": [
    "In our project we are attempting to model the physics of the slingshot effect, whereby a satellite can swing around a planet and receive a boost in speed so that it can successfully reach its destination. To begin to model this, we first consider Newton's laws applied to $n$ bodies. Let $\\mathbf{x}_1(t), \\mathbf{x}_2(t), \\ldots, \\mathbf{x}_n(t) \\in \\mathbb{R}^3$ be the positions of these $n$ bodies, which have masses $m_1, m_2, \\ldots, m_n \\geq 0$. Then if $G$ is the universal gravitational constant, the equations of motion given by Newton's Second Law are\n",
    "$$ \n",
    "\\mathbf{x}_i''(t) = \\sum_{j=1, j\\neq i}^n \\frac{G m_j (\\mathbf{x}_j(t) - \\mathbf{x}_i(t))}{\\|\\mathbf{x}_j(t) - \\mathbf{x}_i(t)\\|^3}, \\qquad 1 \\leq i \\leq n\n",
    "$$\n",
    "Now we can introduce dimensionless time, space, and mass parameters to make our system more tractable. Let $L$, $\\Theta$, and $M$ be characteristic length, time, and mass scales, with units of meters, seconds, and kilograms, respectively. Then introduce the dimensionless parameters $\\mathbf{u}_i = \\mathbf{x}_i/L$, $\\tau = t/\\Theta$, and $\\mu_i = m_i/M$. Then we can rewrite the equations as \n",
    "$$ \n",
    "\\frac{L}{\\Theta^2}\\mathbf{u}_i''(\\tau) = \\sum_{j=1, j \\neq i}^n \\frac{G  M \\mu_j L (\\mathbf{u}_j(\\tau) - \\mathbf{u}_i(\\tau))}{L^3\\|\\mathbf{u}_j(\\tau) - \\mathbf{u}_i(\\tau)\\|^3}, \\qquad  \\qquad 1 \\leq i \\leq n,\n",
    "$$\n",
    "which we can simplify to\n",
    "$$ \n",
    "\\mathbf{u}_i''(\\tau) = \\frac{GM \\Theta^2}{L^3} \\sum_{j=1, j \\neq i}^n \\frac{\\mu_j (\\mathbf{u}_j(\\tau) - \\mathbf{u}_i(\\tau))}{\\|\\mathbf{u}_j(\\tau) - \\mathbf{u}_i(\\tau)\\|^3}, \\qquad  \\qquad 1 \\leq i \\leq n.\n",
    "$$\n",
    "Then by choosing our mass, length, and time scales accordingly, we can set $GM\\Theta^2/L^3 = 1$, so that our equations have the dimensionless form\n",
    "$$ \n",
    "\\mathbf{u}_i''(\\tau) = \\sum_{j=1, j \\neq i}^n \\frac{\\mu_j (\\mathbf{u}_j(\\tau) - \\mathbf{u}_i(\\tau))}{\\|\\mathbf{u}_j(\\tau) - \\mathbf{u}_i(\\tau)\\|^3}, \\qquad  \\qquad 1 \\leq i \\leq n.\n",
    "$$\n",
    "By scaling our potential and kinetic energies using the dimensionless form of the energy, $\\varepsilon = E \\cdot L/(G M^2) = E \\cdot \\Theta^2/(M L^2)$, we have that\n",
    "$$\n",
    "\\varepsilon_K = \\frac{1}{2}\\sum_{i=1}^n \\mu_i \\|\\mathbf{v}_i(\\tau)\\|^2, \\qquad \\varepsilon_P = -\\frac{1}{2}\\sum_{i=1}^n \\sum_{j \\neq i} \\frac{\\mu_i \\mu_j}{\\|\\mathbf{u}_i - \\mathbf{u}_j\\|}.\n",
    "$$\n",
    "To make the equations easier to integrate numerically, we can make our system first order by setting $\\mathbf{v}_i(\\tau) = \\mathbf{u}_i'(\\tau)$. Then we have the equations\n",
    "$$ \n",
    "\\mathbf{u}_i'(\\tau) = \\mathbf{v}_i(\\tau)\n",
    "; \\qquad \\mathbf{v}_i'(\\tau) = \\sum_{j=1, j \\neq i}^n \\frac{\\mu_j (\\mathbf{u}_j(\\tau) - \\mathbf{u}_i(\\tau))}{\\|\\mathbf{u}_j(\\tau) - \\mathbf{u}_i(\\tau)\\|^3}, \\qquad  \\qquad 1 \\leq i \\leq n.\n",
    "$$"
   ]
  },
  {
   "cell_type": "markdown",
   "metadata": {},
   "source": [
    "Now we create some figures to model the dynamics of our system.  We will use a toy problem to do this initial visualization, i.e. assume both primary masses are of mass 1.\n",
    "\n",
    "In each of these cases, there is something wrong with the outcome.  The plots below, more than anything, illustrate the difficulty of choosing initial conditions that allow for a successful slingshot maneuver.  Our task moving forward is to find a way to choose good initial conditions that allow for successful slingshot maneuvers.\n",
    "\n",
    "I've gone ahead and hidden the inputs for all but the first plot, as they are essentially identical.  We now have these plots in 3D, which we think is pretty neat."
   ]
  },
  {
   "cell_type": "code",
   "execution_count": 2,
   "metadata": {
    "scrolled": false
   },
   "outputs": [
    {
     "ename": "TypeError",
     "evalue": "object of type 'numpy.float64' has no len()",
     "output_type": "error",
     "traceback": [
      "\u001b[1;31m---------------------------------------------------------------------------\u001b[0m",
      "\u001b[1;31mTypeError\u001b[0m                                 Traceback (most recent call last)",
      "\u001b[1;32m<ipython-input-2-de24d56ac07a>\u001b[0m in \u001b[0;36m<module>\u001b[1;34m\u001b[0m\n\u001b[0;32m     12\u001b[0m \u001b[0msol\u001b[0m \u001b[1;33m=\u001b[0m \u001b[0msolve_ivp\u001b[0m\u001b[1;33m(\u001b[0m\u001b[0mgravity_acceleration\u001b[0m\u001b[1;33m,\u001b[0m \u001b[1;33m(\u001b[0m\u001b[0mt0\u001b[0m\u001b[1;33m,\u001b[0m \u001b[0mtf\u001b[0m\u001b[1;33m)\u001b[0m\u001b[1;33m,\u001b[0m \u001b[0minit\u001b[0m\u001b[1;33m,\u001b[0m \u001b[0mt_eval\u001b[0m\u001b[1;33m=\u001b[0m \u001b[0mnp\u001b[0m\u001b[1;33m.\u001b[0m\u001b[0mlinspace\u001b[0m\u001b[1;33m(\u001b[0m\u001b[0mt0\u001b[0m\u001b[1;33m,\u001b[0m \u001b[0mtf\u001b[0m\u001b[1;33m,\u001b[0m \u001b[1;36m10000\u001b[0m\u001b[1;33m)\u001b[0m\u001b[1;33m)\u001b[0m\u001b[1;33m.\u001b[0m\u001b[0my\u001b[0m\u001b[1;33m\u001b[0m\u001b[1;33m\u001b[0m\u001b[0m\n\u001b[0;32m     13\u001b[0m \u001b[1;33m\u001b[0m\u001b[0m\n\u001b[1;32m---> 14\u001b[1;33m \u001b[0mplot_sol3d\u001b[0m\u001b[1;33m(\u001b[0m\u001b[0msol\u001b[0m\u001b[1;33m,\u001b[0m \u001b[1;34m'Messy Trajectory, Near Collision'\u001b[0m\u001b[1;33m,\u001b[0m \u001b[0mlim\u001b[0m\u001b[1;33m=\u001b[0m\u001b[1;33m(\u001b[0m\u001b[1;33m-\u001b[0m\u001b[1;36m2\u001b[0m\u001b[1;33m,\u001b[0m \u001b[1;36m2\u001b[0m\u001b[1;33m)\u001b[0m\u001b[1;33m)\u001b[0m\u001b[1;33m\u001b[0m\u001b[1;33m\u001b[0m\u001b[0m\n\u001b[0m\u001b[0;32m     15\u001b[0m \u001b[1;33m\u001b[0m\u001b[0m\n\u001b[0;32m     16\u001b[0m \u001b[1;31m# animate_solution(sol, 'Messy Trajectory, Near Collision', 'messy', skip=40)\u001b[0m\u001b[1;33m\u001b[0m\u001b[1;33m\u001b[0m\u001b[1;33m\u001b[0m\u001b[0m\n",
      "\u001b[1;32m~\\OneDrive\\ACME\\436project\\Gravitational-Slingshot\\Code\\plotting.py\u001b[0m in \u001b[0;36mplot_sol3d\u001b[1;34m(sol, title, lim)\u001b[0m\n\u001b[0;32m    378\u001b[0m     \u001b[1;31m# First body\u001b[0m\u001b[1;33m\u001b[0m\u001b[1;33m\u001b[0m\u001b[1;33m\u001b[0m\u001b[0m\n\u001b[0;32m    379\u001b[0m     \u001b[0mfirst\u001b[0m \u001b[1;33m=\u001b[0m \u001b[0max\u001b[0m\u001b[1;33m.\u001b[0m\u001b[0mplot\u001b[0m\u001b[1;33m(\u001b[0m\u001b[0msol\u001b[0m\u001b[1;33m[\u001b[0m\u001b[1;36m0\u001b[0m\u001b[1;33m,\u001b[0m \u001b[1;33m:\u001b[0m\u001b[1;33m]\u001b[0m\u001b[1;33m,\u001b[0m \u001b[0msol\u001b[0m\u001b[1;33m[\u001b[0m\u001b[1;36m1\u001b[0m\u001b[1;33m,\u001b[0m \u001b[1;33m:\u001b[0m\u001b[1;33m]\u001b[0m\u001b[1;33m,\u001b[0m \u001b[0msol\u001b[0m\u001b[1;33m[\u001b[0m\u001b[1;36m2\u001b[0m\u001b[1;33m,\u001b[0m \u001b[1;33m:\u001b[0m\u001b[1;33m]\u001b[0m\u001b[1;33m,\u001b[0m \u001b[0mcolor\u001b[0m\u001b[1;33m=\u001b[0m\u001b[1;34m'steelblue'\u001b[0m\u001b[1;33m,\u001b[0m \u001b[0mlabel\u001b[0m\u001b[1;33m=\u001b[0m\u001b[1;34m'First Body'\u001b[0m\u001b[1;33m)\u001b[0m\u001b[1;33m\u001b[0m\u001b[1;33m\u001b[0m\u001b[0m\n\u001b[1;32m--> 380\u001b[1;33m     \u001b[0max\u001b[0m\u001b[1;33m.\u001b[0m\u001b[0mplot\u001b[0m\u001b[1;33m(\u001b[0m\u001b[0msol\u001b[0m\u001b[1;33m[\u001b[0m\u001b[1;36m0\u001b[0m\u001b[1;33m,\u001b[0m \u001b[1;33m-\u001b[0m\u001b[1;36m1\u001b[0m\u001b[1;33m]\u001b[0m\u001b[1;33m,\u001b[0m \u001b[0msol\u001b[0m\u001b[1;33m[\u001b[0m\u001b[1;36m1\u001b[0m\u001b[1;33m,\u001b[0m \u001b[1;33m-\u001b[0m\u001b[1;36m1\u001b[0m\u001b[1;33m]\u001b[0m\u001b[1;33m,\u001b[0m \u001b[0msol\u001b[0m\u001b[1;33m[\u001b[0m\u001b[1;36m2\u001b[0m\u001b[1;33m,\u001b[0m \u001b[1;33m-\u001b[0m\u001b[1;36m1\u001b[0m\u001b[1;33m]\u001b[0m\u001b[1;33m,\u001b[0m \u001b[0mcolor\u001b[0m\u001b[1;33m=\u001b[0m\u001b[1;34m'steelblue'\u001b[0m\u001b[1;33m,\u001b[0m \u001b[0mmarker\u001b[0m\u001b[1;33m=\u001b[0m\u001b[1;34m'o'\u001b[0m\u001b[1;33m)\u001b[0m\u001b[1;33m\u001b[0m\u001b[1;33m\u001b[0m\u001b[0m\n\u001b[0m\u001b[0;32m    381\u001b[0m \u001b[1;33m\u001b[0m\u001b[0m\n\u001b[0;32m    382\u001b[0m     \u001b[1;31m# Second body\u001b[0m\u001b[1;33m\u001b[0m\u001b[1;33m\u001b[0m\u001b[1;33m\u001b[0m\u001b[0m\n",
      "\u001b[1;32m~\\Anaconda3\\lib\\site-packages\\mpl_toolkits\\mplot3d\\axes3d.py\u001b[0m in \u001b[0;36mplot\u001b[1;34m(self, xs, ys, zdir, *args, **kwargs)\u001b[0m\n\u001b[0;32m   1504\u001b[0m \u001b[1;33m\u001b[0m\u001b[0m\n\u001b[0;32m   1505\u001b[0m         \u001b[1;31m# Match length\u001b[0m\u001b[1;33m\u001b[0m\u001b[1;33m\u001b[0m\u001b[1;33m\u001b[0m\u001b[0m\n\u001b[1;32m-> 1506\u001b[1;33m         \u001b[0mzs\u001b[0m \u001b[1;33m=\u001b[0m \u001b[0mnp\u001b[0m\u001b[1;33m.\u001b[0m\u001b[0mbroadcast_to\u001b[0m\u001b[1;33m(\u001b[0m\u001b[0mzs\u001b[0m\u001b[1;33m,\u001b[0m \u001b[0mlen\u001b[0m\u001b[1;33m(\u001b[0m\u001b[0mxs\u001b[0m\u001b[1;33m)\u001b[0m\u001b[1;33m)\u001b[0m\u001b[1;33m\u001b[0m\u001b[1;33m\u001b[0m\u001b[0m\n\u001b[0m\u001b[0;32m   1507\u001b[0m \u001b[1;33m\u001b[0m\u001b[0m\n\u001b[0;32m   1508\u001b[0m         \u001b[0mlines\u001b[0m \u001b[1;33m=\u001b[0m \u001b[0msuper\u001b[0m\u001b[1;33m(\u001b[0m\u001b[1;33m)\u001b[0m\u001b[1;33m.\u001b[0m\u001b[0mplot\u001b[0m\u001b[1;33m(\u001b[0m\u001b[0mxs\u001b[0m\u001b[1;33m,\u001b[0m \u001b[0mys\u001b[0m\u001b[1;33m,\u001b[0m \u001b[1;33m*\u001b[0m\u001b[0margs\u001b[0m\u001b[1;33m,\u001b[0m \u001b[1;33m**\u001b[0m\u001b[0mkwargs\u001b[0m\u001b[1;33m)\u001b[0m\u001b[1;33m\u001b[0m\u001b[1;33m\u001b[0m\u001b[0m\n",
      "\u001b[1;31mTypeError\u001b[0m: object of type 'numpy.float64' has no len()"
     ]
    },
    {
     "data": {
      "image/png": "[encoded data removed]",
      "text/plain": [
       "<Figure size 720x720 with 1 Axes>"
      ]
     },
     "metadata": {},
     "output_type": "display_data"
    }
   ],
   "source": [
    "# Set up initial conditions and parameters\n",
    "t0 = 0\n",
    "tf = 10\n",
    "init = np.array([1, 1, 0, # Position 1\n",
    "                 -1, -1, 0, # Position 2\n",
    "                 0, 0, 0, # Position 3\n",
    "                 .35, -.25, 0, # Velocity/Momentum 1\n",
    "                 -.35, .25, 0, # Velocity/Momentum 2\n",
    "                 .3, -.3, 0]) # Velocity 3 \n",
    "\n",
    "# Solve the system\n",
    "sol = solve_ivp(gravity_acceleration, (t0, tf), init, t_eval= np.linspace(t0, tf, 10000)).y\n",
    "\n",
    "plot_sol3d(sol, 'Messy Trajectory, Near Collision', lim=(-2, 2))\n",
    "\n",
    "# animate_solution(sol, 'Messy Trajectory, Near Collision', 'messy', skip=40)\n"
   ]
  },
  {
   "cell_type": "code",
   "execution_count": null,
   "metadata": {
    "hide_input": false,
    "scrolled": false
   },
   "outputs": [],
   "source": [
    "# Set up initial conditions and parameters\n",
    "t0 = 0\n",
    "tf = 10\n",
    "init = np.array([1, 1, 0, # Position 1\n",
    "                 -1, -1, 0, # Position 2\n",
    "                 0, 0, 0, # Position 3\n",
    "                 .35, -.25, 0, # Velocity/Momentum 1\n",
    "                 -.35, .25, 0, # Velocity/Momentum 2\n",
    "                 .3, -.6, 0]) # Velocity 3 \n",
    "\n",
    "# Solve the system\n",
    "sol = solve_ivp(gravity_acceleration, (t0, tf), init, t_eval= np.linspace(t0, tf, 10000)).y\n",
    "\n",
    "#BTW I don't think its non-differentiable I think it just looks like that from this scale, but I could be wrong\n",
    "title = 'Non-Differentiable Trajectory \\n(third body comes to a stop and changes direction)'\n",
    "plot_sol3d(sol, title, lim=(-2, 2))\n",
    "\n",
    "# animate_solution(sol, title, 'jagged', skip=40)\n"
   ]
  },
  {
   "cell_type": "code",
   "execution_count": null,
   "metadata": {
    "hide_input": false,
    "scrolled": false
   },
   "outputs": [],
   "source": [
    "# Set up initial conditions and parameters\n",
    "t0 = 0\n",
    "tf = 10\n",
    "init = np.array([1, 1, 0, # Position 1\n",
    "                 -1, -1, 0, # Position 2\n",
    "                 0, 0, 0, # Position 3\n",
    "                 .35, -.25, 0, # Velocity/Momentum 1\n",
    "                 -.35, .25, 0, # Velocity/Momentum 2\n",
    "                 .01, -.01, 0]) # Velocity 3 \n",
    "\n",
    "# Solve the system\n",
    "sol = solve_ivp(gravity_acceleration, (t0, tf), init, t_eval= np.linspace(t0, tf, 10000)).y\n",
    "\n",
    "title = 'Close Failure (slingshots, but curves back in)'\n",
    "plot_sol3d(sol, title, lim=(-2, 2))\n",
    "\n",
    "# animate_solution(sol, title, 'close', skip=40)\n"
   ]
  },
  {
   "cell_type": "code",
   "execution_count": null,
   "metadata": {
    "hide_input": false
   },
   "outputs": [],
   "source": [
    "# Set up initial conditions and parameters\n",
    "t0 = 0\n",
    "tf = 10\n",
    "init = np.array([1, 1, 0, # Position 1\n",
    "                 -1, -1, 0, # Position 2\n",
    "                 0, 0, 0, # Position 3\n",
    "                 .35, -.25, 0, # Velocity/Momentum 1\n",
    "                 -.35, .25, 0, # Velocity/Momentum 2\n",
    "                 0, -.7, 0]) # Velocity 3 \n",
    "\n",
    "# Solve the system\n",
    "sol = solve_ivp(gravity_acceleration, (t0, tf), init, t_eval= np.linspace(t0, tf, 10000)).y\n",
    "\n",
    "title = 'Tron Lightbike Maneuver (purple cuts off green)'\n",
    "plot_sol3d(sol, title, lim=(-2, 2))\n",
    "\n",
    "# animate_solution(sol, title, 'tron', skip=40)\n"
   ]
  },
  {
   "cell_type": "code",
   "execution_count": null,
   "metadata": {
    "hide_input": false,
    "scrolled": false
   },
   "outputs": [],
   "source": [
    "# Set up initial conditions and parameters\n",
    "t0 = 0\n",
    "tf = 1\n",
    "init = np.array([1, 1, 0, # Position 1\n",
    "                 -1, -1, 0, # Position 2\n",
    "                 0, 0, 0, # Position 3\n",
    "                 .35, -.25, 0, # Velocity/Momentum 1\n",
    "                 -.35, .25, 0, # Velocity/Momentum 2\n",
    "                 2, 1, 0]) # Velocity 3 \n",
    "\n",
    "# Solve the system\n",
    "sol = solve_ivp(gravity_acceleration, (t0, tf), init, t_eval= np.linspace(t0, tf, 10000)).y\n",
    "\n",
    "plot_sol3d(sol, 'Early Slingshot Attempt', lim=(-2, 2))\n",
    "\n",
    "# animate_solution(sol, 'Best Slingshot Attempt', 'best_attempt', skip=40)\n"
   ]
  },
  {
   "cell_type": "code",
   "execution_count": null,
   "metadata": {
    "hide_input": false,
    "scrolled": false
   },
   "outputs": [],
   "source": [
    "# Set up initial conditions and parameters\n",
    "t0 = 0\n",
    "tf = 1.75\n",
    "init = np.array([1, 1, 0, # Position 1\n",
    "                 -1, -1, 0, # Position 2\n",
    "                 0, 0, -.1, # Position 3\n",
    "                 .35, -.25, 0, # Velocity/Momentum 1\n",
    "                 -.35, .25, 0, # Velocity/Momentum 2\n",
    "                 2.5, 1.25, .1]) # Velocity 3 \n",
    "\n",
    "# Solve the system\n",
    "sol = solve_ivp(gravity_acceleration, (t0, tf), init, t_eval= np.linspace(t0, tf, 10000)).y\n",
    "\n",
    "plot_sol3d(sol, 'Slingshot Escape', lim=(-2, 2))\n",
    "\n",
    "# animate_solution(sol, 'Slingshot Escape', 'escape', skip=40)\n"
   ]
  },
  {
   "cell_type": "markdown",
   "metadata": {
    "hide_input": true
   },
   "source": [
    "This is the closest we could get to a successful slingshot maneuver on this first attempt.  We came by this mostly by trial and error.  Though we have a long way to go, we note that the third body does indeed gain velocity and change direction by passing very close to the first body, so this is a solid initial model and illustrates our goal.\n",
    "\n",
    "We further note that this is a very simple toy problem, with the first two primary bodies having mass of unity and the third body being considered as massless, so the masses, velocities, and positions for this model are pretty much meaningless, and only give us information relative to this model.\n",
    "\n",
    "Interestingly, we added a small z perturbation, and the trajectory was still a slingshot."
   ]
  },
  {
   "cell_type": "markdown",
   "metadata": {},
   "source": [
    "We now do a sort of grid search idea to really find an optimal slingshot trajectory."
   ]
  },
  {
   "cell_type": "code",
   "execution_count": null,
   "metadata": {
    "hide_input": false,
    "scrolled": false
   },
   "outputs": [],
   "source": [
    "# Set up initial conditions and parameters\n",
    "t0 = 0\n",
    "tf = 10\n",
    "init = np.array([1, 1, 0, # Position 1\n",
    "                 -1, -1, 0, # Position 2\n",
    "                 .25, .25, 0, # Position 3\n",
    "                 .35, -.25, 0, # Velocity/Momentum 1\n",
    "                 -.35, .25, 0, # Velocity/Momentum 2\n",
    "                 2, .5, 0]) # Velocity 3 \n",
    "\n",
    "# Solve the system for each grid point, sort of\n",
    "perturb = np.zeros_like(init)\n",
    "perturb[[15, 16]] = .05\n",
    "fig, ax = plt.subplots()\n",
    "for k in range(20):\n",
    "    sol = solve_ivp(gravity_acceleration, (t0, tf), init + k*perturb, t_eval= np.linspace(t0, tf, 10000)).y\n",
    "    plot_solution(sol, 'Clean Slingshot Options', ax = ax, show_speed=False)\n",
    "    ax.legend([])\n"
   ]
  },
  {
   "cell_type": "markdown",
   "metadata": {},
   "source": [
    "As we can see, with these higher starting velocities, the problem appears quite stable.  See the plot below however to note the chaotic behavior that appears with lower starting velocities.  If the velocity is not great enough, slight changes to initial conditions result in drastically different behavior, with some slingshotting down as we would like, and others looping around unpredictably.  This is perhaps something to keep in mind as we proceed, especially as we consider what realistic velocities for spacecraft are relative to the planetary bodies.  We might need the model to be more robust to lower velocities, depending on what the engineering constraints are for realistic spacecraft speeds.\n",
    "\n",
    "An animation of this plot can be found on our github (link at the top)."
   ]
  },
  {
   "cell_type": "code",
   "execution_count": null,
   "metadata": {
    "scrolled": false
   },
   "outputs": [],
   "source": [
    "# Set up initial conditions and parameters\n",
    "t0 = 0\n",
    "tf = 10\n",
    "init = np.array([1, 1, 0, # Position 1\n",
    "                 -1, -1, 0, # Position 2\n",
    "                 .25, .25, 0, # Position 3\n",
    "                 .35, -.25, 0, # Velocity/Momentum 1\n",
    "                 -.35, .25, 0, # Velocity/Momentum 2\n",
    "                 .7, .3, 0]) # Velocity 3 \n",
    "\n",
    "# Solve the system for each grid point, sort of\n",
    "perturb = np.zeros_like(init)\n",
    "perturb[[15, 16]] = .05\n",
    "fig, ax = plt.subplots()\n",
    "for k in range(10):\n",
    "    sol = solve_ivp(gravity_acceleration, (t0, tf), init + k*perturb, t_eval= np.linspace(t0, tf, 10000)).y\n",
    "    plot_solution(sol, 'Chaotic Trajectories after small Velocity Perturbations', ax = ax, show_speed=False)\n",
    "    ax.legend([])\n"
   ]
  },
  {
   "cell_type": "markdown",
   "metadata": {},
   "source": [
    "## Energy Calculation and Rotational Coordinates\n",
    "\n",
    "We added code to compute the engergy of each body to verify that our mechanics is working properly.  We note that this is not the actual energy, but rather a scaled energy (we divide by the masses).  The formula we used to calculate energy is below:\n",
    "\n",
    "$$ e_i = \\frac{1}{2} \\|\\mathbf{v}_i(\\tau)\\|^2 - \\sum_{j \\neq i} \\frac{\\mu_j}{\\|\\mathbf{u}_i-\\mathbf{u}_j\\|}\n",
    "$$\n",
    "\n",
    "We also added code allowing us to plot the solution in rotational coordinates. \n",
    "\n",
    "According to [this](https://ocw.mit.edu/courses/aeronautics-and-astronautics/16-07-dynamics-fall-2009/lecture-notes/MIT16_07F09_Lec18.pdf), the solution ot the motion of the first and second bodies is the Kepler problem, where the two bodies move in circular orbits about their center of mass with a frequency\n",
    "\n",
    "$$\\Omega = \\sqrt{\\frac{G(M_1+M_2)}{R^3}}$$\n",
    "\n",
    "where $R$ is the distance between them. We can convert the xyz positions, velocities, and accelerations into a rotational coordinate frame centered at the center of mass of the system and rotating with angular velocity $\\Omega$. In this coordinate system $M_1$ and $M_2$ stay at rest (their velocities $v_1$ and $v_2$ are canceled out by rotating the coordinate system by subtracting $\\Omega r_1$ and $\\Omega r_2$.\n",
    "\n",
    "In practice, we can use the change in the solution for the first body's movement to find how much to rotate the coordinates, construct a rotation matrix, and use the rotation matrix to modify the position of the third body. Supposing we have already found the position of the center of mass of the system and subtracted off its position so our coordinates are already centered around the origin, we can find the rotation $\\theta$ of the first body over time (compared to its initial position) by using a 2-argument arctangent: $\\theta(t_i) = \\arctan{(y_1(t_i)-y_1(t_0), x_1(t_i)-x_1(t_0)}$ in numpy `np.arctan2(y,x)`. (Using 2 arguments allows us to determine the correct quandrant for $\\theta$). Now we will set the first two bodies positions constant based on their initial positions and rotate the third body by $-\\theta(t_i)$ for each time step. This can be accomplished nicely by matrix multiplying a rotational matrix based off $-\\theta_i = -\\theta(t_i)$ to the x,y position vector of the third body at each time step:\n",
    "\n",
    "$$R(-\\theta_i) = \\begin{bmatrix}\n",
    "\\cos{\\theta_i} & \\sin{\\theta_i} \\\\\n",
    "-\\sin{\\theta_i} & \\cos{\\theta_i}\n",
    "\\end{bmatrix}\n",
    "$$\n",
    "\n",
    "Because we are rotating our coordinates around the origin, we can use the same rotation matrix to convert our velocities into rotating coordinate velocities. If the center of mass has a velocity, we must subtract off that velocity from every bodies' velocity before rotating.\n",
    "\n",
    "Below is a plot with the energies, as well as a plot of the solution using rotating coordinates with respect to the first two bodies."
   ]
  },
  {
   "cell_type": "code",
   "execution_count": null,
   "metadata": {},
   "outputs": [],
   "source": [
    "# Set up initial conditions and parameters (Modified from \"Best Attempt\")\n",
    "t0 = 0\n",
    "tf = 10\n",
    "init = np.array([1, 1, 0, # Position 1\n",
    "                 -1, -1, 0, # Position 2\n",
    "                 0, 0, -0.2, # Position 3\n",
    "                 0.35, -.25, 0, # Velocity/Momentum 1\n",
    "                 -.35, .25, 0, # Velocity/Momentum 2\n",
    "                 2.5, 1.3, 0.2]) # Velocity 3 \n",
    "\n",
    "# Solve the system\n",
    "sol = solve_ivp(gravity_acceleration, (t0, tf), init, t_eval= np.linspace(t0, tf, 10000)).y\n",
    "rot_sol, center = to_rotational(sol)\n",
    "energies = massless_energy(sol, [1,1,0])\n",
    "\n",
    "title = 'Slingshot escape (rotated)'\n",
    "plot_sol3d(rot_sol, title)\n",
    "plot_nbody3d(sol, \"3-body Slingshot escape\", energies=energies)\n"
   ]
  },
  {
   "cell_type": "markdown",
   "metadata": {},
   "source": [
    "## Trying different masses\n",
    "\n",
    "This is still a toy problem, but a slightly more realistic one.  Instead of equal masses set to 1, we have a large mass corresponding to the sun and a smaller mass corresponding to the planet to be used in the slingshot maneuver."
   ]
  },
  {
   "cell_type": "code",
   "execution_count": null,
   "metadata": {
    "scrolled": false
   },
   "outputs": [],
   "source": [
    "# Set up initial conditions and parameters\n",
    "t0 = 0\n",
    "tf = 3\n",
    "init = np.array([.1, 0, 0, # Position 1\n",
    "                 -4, 0, 0, # Position 2\n",
    "                 -1, -1, 0, # Position 3\n",
    "                 0, 0, 0, # Velocity/Momentum 1\n",
    "                 0, 1.6, 0, # Velocity/Momentum 2\n",
    "                 -3.3, 1.8, 0]) # Velocity 3 \n",
    "\n",
    "# Solve the system\n",
    "fun = lambda t, x: gravity_acceleration(t, x, 10, .1)\n",
    "sol = solve_ivp(fun, (t0, tf), init, t_eval= np.linspace(t0, tf, 10000)).y\n",
    "\n",
    "# Plot and animate\n",
    "fig, ax = plt.subplots()\n",
    "plot_solution(sol, 'Solar System Basic', ax=ax)\n",
    "ax.set_xlim(-6, 1)\n",
    "ax.set_ylim(-2, 6)\n",
    "plt.show()\n",
    "\n",
    "plt.ioff()\n",
    "fig, ax = plt.subplots()\n",
    "ax.set_xlim(-6, 1)\n",
    "ax.set_ylim(-2, 6)\n",
    "# animate_solution(sol, 'Solar System Basic', 'solar_system_basic', skip=40, show_quivers=False, ax=ax)\n",
    "plt.close()\n"
   ]
  },
  {
   "cell_type": "markdown",
   "metadata": {},
   "source": [
    "We were able to pull off a decent slingshot here, and we can likely furthur improve it in the future.  Though this is still a toy problem, with made up masses and initial conditions, it is much more realistic than the previous model.  We now have a large mass to represent the sun, and a smaller mass (but still very large relative to the \"massless\" spacecraft) to represent Jupiter, or any planet that we could attempt a slingshot with.\n",
    "\n",
    "If you view the animation of this model, we see that the spacecraft does indeed gain significant velocity as it passes by the second body, indicating that our slingshot model is indeed working as desired.  We will continue to engineer it so that we can maximize the velocity gain."
   ]
  },
  {
   "cell_type": "markdown",
   "metadata": {},
   "source": [
    "### Next Steps\n",
    "\n",
    "For the current iteration of our paper, the major improvements that we've made are:\n",
    "    \n",
    "- Plotting in 3D\n",
    "\n",
    "- Computing Energies\n",
    "\n",
    "- Modeling with more realistic mass ratios\n",
    "\n",
    "- Animating our solutions so that they look awesome (animations here https://samcochran.github.io/Gravitational-Slingshot/)\n",
    "    \n",
    "Over the course of the next week:\n",
    "\n",
    "Jacob will look at our energy function to make sure it is working properly--there is some strange, non-conservative behavior that we need to explain. \n",
    "\n",
    "Sam will create a fully realistic model using the correct mass ratios to model the solar system.  We will see how things change when we have the third mass zero versus when we have a small nonzero mass for the third body.  This will give us some indication of how robust our model is, and if it is structurally stable.\n",
    "\n",
    "Caleb will play with a new system to model the \"Mandalorian slingshot\" using the mass ratios and bodies we imagion exist in a Star Wars solar system.\n",
    "\n",
    "We will also try to find initial conditions that give us a specific angle for the trajectory of the third body.  We will also look at ways to allow our spacecraft to apply point thrusts to change its velocity, and see if we can get that to work.\n",
    "\n",
    "For our next submission, we will clean up our notebook a little bit and decide which animations to keep, and which things to drop for our final submission."
   ]
  }
 ],
 "metadata": {
  "kernelspec": {
   "display_name": "Python 3",
   "language": "python",
   "name": "python3"
  },
  "language_info": {
   "codemirror_mode": {
    "name": "ipython",
    "version": 3
   },
   "file_extension": ".py",
   "mimetype": "text/x-python",
   "name": "python",
   "nbconvert_exporter": "python",
   "pygments_lexer": "ipython3",
   "version": "3.6.10"
  }
 },
 "nbformat": 4,
 "nbformat_minor": 4
}
